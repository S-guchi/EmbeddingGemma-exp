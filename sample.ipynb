{
 "cells": [
  {
   "cell_type": "code",
   "execution_count": 2,
   "id": "ac052375",
   "metadata": {},
   "outputs": [],
   "source": [
    "# huggingface-cli login"
   ]
  },
  {
   "cell_type": "code",
   "execution_count": 7,
   "id": "8b4008ef",
   "metadata": {},
   "outputs": [],
   "source": [
    "# =======================\n",
    "# Setup (一度だけ実行)\n",
    "# =======================\n",
    "# pip install -U \"transformers>=4.41\" \"sentence-transformers>=3.0.0\" \"huggingface_hub>=0.23\" torch\n",
    "\n",
    "from typing import List\n",
    "import numpy as np\n",
    "from numpy.linalg import norm\n",
    "\n",
    "from huggingface_hub import login\n",
    "from sentence_transformers import SentenceTransformer\n",
    "\n",
    "# =======================\n",
    "# ② EmbeddingGemma (検索/類似度) の比較\n",
    "# =======================\n",
    "EMB_MODEL_ID = \"google/embeddinggemma-300m\"  # 埋め込みモデル\n",
    "emb_model = SentenceTransformer(EMB_MODEL_ID, use_auth_token=True)\n",
    "\n",
    "def rank_by_similarity(query: str, docs: List[str]):\n",
    "    q = emb_model.encode_query(query)              # shape: (768,)\n",
    "    d = emb_model.encode_document(docs)            # shape: (N, 768)\n",
    "    # SentenceTransformersのsimilarityでもOKだが、ここではcos類似度で明示\n",
    "    sims = (q @ d.T) / (norm(q) * norm(d, axis=1)) # shape: (N,)\n",
    "    order = np.argsort(-sims)                      # 降順ソート\n",
    "    return sims, order\n",
    "\n"
   ]
  },
  {
   "cell_type": "code",
   "execution_count": 9,
   "id": "60e63676",
   "metadata": {},
   "outputs": [
    {
     "name": "stdout",
     "output_type": "stream",
     "text": [
      "=== EmbeddingGemma（検索/類似度） ===\n",
      "0.623 | 火星は赤っぽい外観で知られ、赤い惑星と呼ばれています。\n",
      "0.609 | 土星はその美しい環で有名ですが、赤い惑星と間違われることもあります。\n",
      "0.547 | 木星は太陽系で最大の惑星で、大赤斑があります。\n",
      "0.491 | 金星は地球の双子と呼ばれることがあります。\n"
     ]
    }
   ],
   "source": [
    "query = \"赤い惑星として知られている惑星はどれですか？\"\n",
    "documents = [\n",
    "    \"金星は地球の双子と呼ばれることがあります。\",\n",
    "    \"火星は赤っぽい外観で知られ、赤い惑星と呼ばれています。\",\n",
    "    \"木星は太陽系で最大の惑星で、大赤斑があります。\",\n",
    "    \"土星はその美しい環で有名ですが、赤い惑星と間違われることもあります。\"\n",
    "]\n",
    "\n",
    "print(\"=== EmbeddingGemma（検索/類似度） ===\")\n",
    "sims, order = rank_by_similarity(query, documents)\n",
    "for idx in order:\n",
    "    print(f\"{sims[idx]:.3f} | {documents[idx]}\")\n",
    "\n",
    "# 期待挙動：\n",
    "# 検索：類似度が最も高い文として「火星...赤い惑星...」が上位に来る"
   ]
  },
  {
   "cell_type": "markdown",
   "id": "ff3b4c42",
   "metadata": {},
   "source": []
  },
  {
   "cell_type": "code",
   "execution_count": null,
   "id": "a37fceb4",
   "metadata": {},
   "outputs": [],
   "source": []
  }
 ],
 "metadata": {
  "kernelspec": {
   "display_name": ".venv",
   "language": "python",
   "name": "python3"
  },
  "language_info": {
   "codemirror_mode": {
    "name": "ipython",
    "version": 3
   },
   "file_extension": ".py",
   "mimetype": "text/x-python",
   "name": "python",
   "nbconvert_exporter": "python",
   "pygments_lexer": "ipython3",
   "version": "3.12.8"
  }
 },
 "nbformat": 4,
 "nbformat_minor": 5
}
